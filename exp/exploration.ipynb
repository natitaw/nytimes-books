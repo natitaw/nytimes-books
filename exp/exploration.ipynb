{
 "cells": [
  {
   "cell_type": "code",
   "execution_count": 19,
   "metadata": {},
   "outputs": [],
   "source": [
    "import requests \n",
    "import time\n",
    "import json\n",
    "import os\n",
    "import datetime\n",
    "\n",
    "import pandas as pd"
   ]
  },
  {
   "cell_type": "code",
   "execution_count": 2,
   "metadata": {},
   "outputs": [],
   "source": [
    "API_KEY = \"bdnTOY3Wx7hYKcG7xjRo5ALgdcEYGiLv\""
   ]
  },
  {
   "cell_type": "code",
   "execution_count": 6,
   "metadata": {},
   "outputs": [],
   "source": [
    "\n",
    "def retrieve_newest_monthly_lists():\n",
    "    \"\"\"\n",
    "    Retrieve the 5 newest monthly lists from the NYTimes Books API and output them to a JSON file.\n",
    "    \n",
    "    Args:\n",
    "        API_KEY (str): The NYTimes Books API key for authentication.\n",
    "        \n",
    "    Returns:\n",
    "        list: A list of dictionaries containing the \"list_name_encoded\" and \"oldest_published_date\" keys \n",
    "            for the 5 newest monthly lists.\n",
    "    \"\"\"\n",
    "\n",
    "     # Set up the API endpoint URL and parameters\n",
    "    url = \"https://api.nytimes.com/svc/books/v3/lists/names.json\"\n",
    "    params = {\n",
    "        \"api-key\": f\"{API_KEY}\"\n",
    "    }\n",
    "\n",
    "    response = requests.get(url, params=params)\n",
    "    data = response.json()\n",
    "    \n",
    "    # Filter for monthly lists\n",
    "    data = [data for data in data[\"results\"] if data[\"updated\"]==\"MONTHLY\"]\n",
    "    \n",
    "    # Sort for finding the newest 4 lists\n",
    "    data = sorted(data, key=lambda data: data['newest_published_date'], reverse=True)[:5]\n",
    "\n",
    "    # Create a new list with only \"list_name_encoded\" and \"oldest_publish_date\" keys\n",
    "    output_data = [{key:value for key,value in d.items() \n",
    "               if key in ['list_name_encoded', 'oldest_published_date']} \n",
    "              for d in data]\n",
    "    \n",
    "    # Write output to a JSON file\n",
    "    with open(\"newest_monthly_lists.json\", \"w\") as f:\n",
    "        json.dump(output_data, f, indent=4)\n",
    "    \n",
    "    # Return the output data as the function of output\n",
    "    return output_data\n",
    "\n"
   ]
  },
  {
   "cell_type": "code",
   "execution_count": 5,
   "metadata": {},
   "outputs": [],
   "source": [
    "\n",
    "def retrieve_books(path_to_file, end_date=datetime.datetime.today().strftime('%Y-%m-%d')):\n",
    "    \"\"\"\n",
    "    Retrieve the books for each monthly list specified in a JSON file.\n",
    "\n",
    "    Args:\n",
    "        path_to_file (str): The path to the input JSON file containing a list of monthly lists.\n",
    "        end_date (str, optional): The last date for which to retrieve books. If None, all available books will be retrieved. Defaults to None.\n",
    "\n",
    "    Returns:\n",
    "        None\n",
    "    \"\"\"\n",
    "\n",
    "    # Read the input data from the JSON file\n",
    "    with open(path_to_file, 'r') as f:\n",
    "        data = json.load(f)\n",
    "\n",
    "    # Loop through each monthly list and retrieve the books for each month\n",
    "    for lst in data:\n",
    "        \n",
    "        list_name_encoded = lst['list_name_encoded']\n",
    "        oldest_published_date = lst['oldest_published_date']\n",
    "\n",
    "        print(f\"\\t{list_name_encoded}\")\n",
    "        # Create a list to hold the API responses for each month\n",
    "        responses = []\n",
    "\n",
    "        # Initialize the API endpoint URL and parameters\n",
    "        url = f'https://api.nytimes.com/svc/books/v3/lists/{oldest_published_date}/{list_name_encoded}.json'\n",
    "        params = {\n",
    "            'api-key': f'{API_KEY}'\n",
    "        }\n",
    "\n",
    "        # Loop until there is no more data available or we reach the end date\n",
    "        while True:\n",
    "            # Send a GET request to the API endpoint with the current parameters\n",
    "            url = f'https://api.nytimes.com/svc/books/v3/lists/{oldest_published_date}/{list_name_encoded}.json'\n",
    "            response = requests.get(url, params=params)\n",
    "\n",
    "            # Check if the response was successful\n",
    "            if response.status_code == 200:\n",
    "                # Parse the response data as JSON\n",
    "                data = response.json()\n",
    "\n",
    "                # Append the response data to the list of responses\n",
    "                responses.append(data)\n",
    "\n",
    "                print(data[\"results\"]['next_published_date'])\n",
    "                # Check if there is more data available\n",
    "                if data[\"results\"]['next_published_date'] <= end_date:\n",
    "                    # Update the parameters with the next_published_date\n",
    "                    oldest_published_date = data[\"results\"]['next_published_date']\n",
    "                else:\n",
    "                    break\n",
    "                # Check if there is a timeout error\n",
    "            elif response.status_code == 429:\n",
    "                print('\\t\\t waiting ...')\n",
    "                time.sleep(10)\n",
    "        \n",
    "            else:\n",
    "                print(f'Error: {response.status_code} - {response.reason}')\n",
    "                break\n",
    "\n",
    "        # Write the list of responses to a NDJSON file\n",
    "        output_filename = f'{list_name_encoded}.ndjson'\n",
    "        with open(output_filename, 'w') as f:\n",
    "            for response in responses:\n",
    "                f.write(json.dumps(response) + '\\n')\n",
    "\n",
    "        # Print the path to the output file\n",
    "        print(f'Output data saved to {os.path.abspath(output_filename)}')\n",
    "\n"
   ]
  },
  {
   "cell_type": "code",
   "execution_count": 7,
   "metadata": {},
   "outputs": [
    {
     "data": {
      "text/plain": [
       "[{'list_name_encoded': 'audio-fiction', 'oldest_published_date': '2018-03-11'},\n",
       " {'list_name_encoded': 'audio-nonfiction',\n",
       "  'oldest_published_date': '2018-03-11'},\n",
       " {'list_name_encoded': 'business-books',\n",
       "  'oldest_published_date': '2013-11-03'},\n",
       " {'list_name_encoded': 'graphic-books-and-manga',\n",
       "  'oldest_published_date': '2019-10-13'},\n",
       " {'list_name_encoded': 'mass-market-monthly',\n",
       "  'oldest_published_date': '2019-10-13'}]"
      ]
     },
     "execution_count": 7,
     "metadata": {},
     "output_type": "execute_result"
    }
   ],
   "source": [
    "# Execute names script\n",
    "retrieve_newest_monthly_lists()"
   ]
  },
  {
   "cell_type": "code",
   "execution_count": 68,
   "metadata": {},
   "outputs": [],
   "source": [
    "dax = [{'list_name_encoded': 'audio-fiction', 'oldest_published_date': '2018-03-11'},\n",
    " {'list_name_encoded': 'audio-nonfiction',\n",
    "  'oldest_published_date': '2018-03-11'},\n",
    " {'list_name_encoded': 'business-books',\n",
    "  'oldest_published_date': '2013-11-03'},\n",
    " {'list_name_encoded': 'graphic-books-and-manga',\n",
    "  'oldest_published_date': '2019-10-13'},\n",
    " {'list_name_encoded': 'mass-market-monthly',\n",
    "  'oldest_published_date': '2019-10-13'}]"
   ]
  },
  {
   "cell_type": "code",
   "execution_count": 73,
   "metadata": {},
   "outputs": [
    {
     "name": "stdout",
     "output_type": "stream",
     "text": [
      "\taudio-fiction\n",
      "\taudio-nonfiction\n",
      "\tbusiness-books\n",
      "\tgraphic-books-and-manga\n",
      "\tmass-market-monthly\n"
     ]
    }
   ],
   "source": [
    "num_res = {}\n",
    "\n",
    "for d in dax:\n",
    "    list_name_encoded = d['list_name_encoded'] #'audio-fiction'\n",
    "    oldest_published_date = d['oldest_published_date'] #'2018-03-11'\n",
    "\n",
    "    print(f\"\\t{list_name_encoded}\")\n",
    "    # Create a list to hold the API responses for each month\n",
    "    responses = []\n",
    "    offset = 0\n",
    "    limit = 100\n",
    "\n",
    "    # Initialize the API endpoint URL and parameters\n",
    "    url = f'https://api.nytimes.com/svc/books/v3/lists/{oldest_published_date}/{list_name_encoded}.json'\n",
    "    params = {\n",
    "        'api-key': f'{API_KEY}',\n",
    "    }\n",
    "    \n",
    "    url = f'https://api.nytimes.com/svc/books/v3/lists/{oldest_published_date}/{list_name_encoded}.json'\n",
    "    response = requests.get(url, params=params)\n",
    "    response = response.json()\n",
    "\n",
    "    num_res[list_name_encoded] = response['num_results']"
   ]
  },
  {
   "cell_type": "code",
   "execution_count": null,
   "metadata": {},
   "outputs": [],
   "source": []
  },
  {
   "cell_type": "code",
   "execution_count": 98,
   "metadata": {},
   "outputs": [],
   "source": [
    "params = {\n",
    "    'api-key': f'{API_KEY}',\n",
    "    'offset':20\n",
    "}\n",
    "\n",
    "url = f'https://api.nytimes.com/svc/books/v3/lists/{oldest_published_date}/{list_name_encoded}.json'\n",
    "response = requests.get(url, params=params)\n",
    "response = response.json()\n",
    "\n",
    "#response = response.get(\"results\", [])"
   ]
  },
  {
   "cell_type": "code",
   "execution_count": 99,
   "metadata": {},
   "outputs": [
    {
     "data": {
      "text/plain": [
       "{'status': 'OK',\n",
       " 'copyright': 'Copyright (c) 2023 The New York Times Company.  All Rights Reserved.',\n",
       " 'num_results': 0,\n",
       " 'results': []}"
      ]
     },
     "execution_count": 99,
     "metadata": {},
     "output_type": "execute_result"
    }
   ],
   "source": [
    "response"
   ]
  },
  {
   "cell_type": "code",
   "execution_count": null,
   "metadata": {},
   "outputs": [],
   "source": []
  },
  {
   "cell_type": "code",
   "execution_count": 86,
   "metadata": {},
   "outputs": [
    {
     "ename": "AttributeError",
     "evalue": "'Response' object has no attribute 'get'",
     "output_type": "error",
     "traceback": [
      "\u001b[0;31m---------------------------------------------------------------------------\u001b[0m",
      "\u001b[0;31mAttributeError\u001b[0m                            Traceback (most recent call last)",
      "\u001b[0;32m<ipython-input-86-fa8c7b7b34ad>\u001b[0m in \u001b[0;36m<module>\u001b[0;34m\u001b[0m\n\u001b[1;32m      1\u001b[0m \u001b[0murl\u001b[0m \u001b[0;34m=\u001b[0m \u001b[0;34mf'https://api.nytimes.com/svc/books/v3/lists/best-sellers/history.json?api-key=bdnTOY3Wx7hYKcG7xjRo5ALgdcEYGiLv&offset=40'\u001b[0m\u001b[0;34m\u001b[0m\u001b[0;34m\u001b[0m\u001b[0m\n\u001b[1;32m      2\u001b[0m \u001b[0mresponse\u001b[0m \u001b[0;34m=\u001b[0m \u001b[0mrequests\u001b[0m\u001b[0;34m.\u001b[0m\u001b[0mget\u001b[0m\u001b[0;34m(\u001b[0m\u001b[0murl\u001b[0m\u001b[0;34m)\u001b[0m\u001b[0;34m\u001b[0m\u001b[0;34m\u001b[0m\u001b[0m\n\u001b[0;32m----> 3\u001b[0;31m \u001b[0mresponse\u001b[0m \u001b[0;34m=\u001b[0m \u001b[0mresponse\u001b[0m\u001b[0;34m.\u001b[0m\u001b[0mget\u001b[0m\u001b[0;34m(\u001b[0m\u001b[0;34m\"results\"\u001b[0m\u001b[0;34m,\u001b[0m \u001b[0;34m[\u001b[0m\u001b[0;34m]\u001b[0m\u001b[0;34m)\u001b[0m\u001b[0;34m\u001b[0m\u001b[0;34m\u001b[0m\u001b[0m\n\u001b[0m",
      "\u001b[0;31mAttributeError\u001b[0m: 'Response' object has no attribute 'get'"
     ]
    }
   ],
   "source": [
    "url = f'https://api.nytimes.com/svc/books/v3/lists/best-sellers/history.json?api-key=bdnTOY3Wx7hYKcG7xjRo5ALgdcEYGiLv&offset=40'\n",
    "response = requests.get(url)\n",
    "response = response.get(\"results\", [])"
   ]
  },
  {
   "cell_type": "code",
   "execution_count": 55,
   "metadata": {},
   "outputs": [],
   "source": [
    "#pd.DataFrame.from_dict(response)#['results'], orient='index')"
   ]
  },
  {
   "cell_type": "code",
   "execution_count": null,
   "metadata": {},
   "outputs": [],
   "source": []
  },
  {
   "cell_type": "code",
   "execution_count": 85,
   "metadata": {},
   "outputs": [
    {
     "data": {
      "text/plain": [
       "20"
      ]
     },
     "execution_count": 85,
     "metadata": {},
     "output_type": "execute_result"
    }
   ],
   "source": [
    "len(response['results'])"
   ]
  },
  {
   "cell_type": "code",
   "execution_count": 75,
   "metadata": {},
   "outputs": [
    {
     "data": {
      "text/plain": [
       "{'status': 'OK',\n",
       " 'copyright': 'Copyright (c) 2023 The New York Times Company.  All Rights Reserved.',\n",
       " 'num_results': 0,\n",
       " 'results': []}"
      ]
     },
     "execution_count": 75,
     "metadata": {},
     "output_type": "execute_result"
    }
   ],
   "source": [
    "response"
   ]
  },
  {
   "cell_type": "code",
   "execution_count": null,
   "metadata": {},
   "outputs": [],
   "source": [
    "def main_request(url, endpoint, offset):\n",
    "    "
   ]
  },
  {
   "cell_type": "code",
   "execution_count": null,
   "metadata": {},
   "outputs": [],
   "source": [
    "responses = []\n",
    "\n",
    "# Initialize the API endpoint URL and parameters\n",
    "url = f'https://api.nytimes.com/svc/books/v3/lists/{oldest_published_date}/{list_name_encoded}.json'\n",
    "params = {\n",
    "    'api-key': f'{API_KEY}'\n",
    "    'offset':'0'\n",
    "}\n",
    "page = 1\n",
    "# Loop until there is no more data available or we reach the end date\n",
    "while True:\n",
    "    # Send a GET request to the API endpoint with the current parameters\n",
    "    url = f'https://api.nytimes.com/svc/books/v3/lists/{oldest_published_date}/{list_name_encoded}.json'\n",
    "    response = requests.get(url, params=params)\n",
    "    \n",
    "    num_results = \n",
    "\n",
    "    # Parse the response data as JSON\n",
    "    data = response.json()\n",
    "\n",
    "    # Append the response data to the list of responses\n",
    "    responses.append(data)\n",
    "\n",
    "    print(data[\"results\"]['next_published_date'])\n",
    "\n",
    "    # Check to make sure the data contains all books\n",
    "    # Books API only returns 20 books at a time\n",
    "    while data['num_results'] > 20:\n",
    "\n",
    "        # Use offset to get the next batch of results\n",
    "        params['offset'] = page*20\n",
    "\n",
    "        response = requests.get(url, params=params)\n",
    "        response = response.json()\n",
    "        response = response.get(\"results\", [])\n",
    "\n",
    "        # Go to the net page\n",
    "        page += 1\n",
    "\n",
    "    # Check if there is more data available\n",
    "    if data[\"results\"]['next_published_date'] <= end_date:\n",
    "        # Update the parameters with the next_published_date\n",
    "        oldest_published_date = data[\"results\"]['next_published_date']\n",
    "    else:\n",
    "        break\n",
    "        # Check if there is a timeout error\n",
    "    elif response.status_code == 429:\n",
    "        print('\\t\\t waiting ...')\n",
    "        time.sleep(10)\n",
    "\n",
    "    else:\n",
    "        print(f'Error: {response.status_code} - {response.reason}')\n",
    "        break\n",
    "\n",
    "# Write the list of responses to a NDJSON file\n",
    "output_filename = f'{list_name_encoded}.ndjson'\n",
    "with open(output_filename, 'w') as f:\n",
    "    for response in responses:\n",
    "        f.write(json.dumps(response) + '\\n')\n",
    "\n",
    "# Print the path to the output file\n",
    "print(f'Output data saved to {os.path.abspath(output_filename)}')"
   ]
  },
  {
   "cell_type": "code",
   "execution_count": 133,
   "metadata": {},
   "outputs": [
    {
     "name": "stdout",
     "output_type": "stream",
     "text": [
      "\taudio-fiction\n",
      "audio-fiction 2022-12-02\n",
      "audio-fiction 2023-01-01\n",
      "audio-fiction 2023-02-01\n",
      "Output data saved to /Users/natitaw/Documents/GitHub/nytimes-books/exp/audio-fiction.ndjson\n"
     ]
    }
   ],
   "source": [
    "\n",
    "list_name_encoded = 'audio-fiction'\n",
    "oldest_published_date = '2022-12-02'\n",
    "end_date = datetime.datetime.today().strftime('%Y-%m-%d')\n",
    "\n",
    "print(f\"\\t{list_name_encoded}\")\n",
    "# Create a list to hold the API responses for each month\n",
    "responses = []\n",
    "\n",
    "# Initialize the API endpoint URL and parameters\n",
    "url = f'https://api.nytimes.com/svc/books/v3/lists/{oldest_published_date}/{list_name_encoded}.json'\n",
    "params = {\n",
    "    'api-key': f'{API_KEY}',\n",
    "    'offset':0\n",
    "}\n",
    "\n",
    "# Loop until there is no more data available or we reach the end date\n",
    "while True:\n",
    "    print(list_name_encoded, oldest_published_date)\n",
    "    # Send a GET request to the API endpoint with the current parameters\n",
    "    url = f'https://api.nytimes.com/svc/books/v3/lists/{oldest_published_date}/{list_name_encoded}.json'\n",
    "    response = requests.get(url, params=params)\n",
    "\n",
    "    # Check if the response was successful\n",
    "    if response.status_code == 200:\n",
    "        # Parse the response data as JSON\n",
    "        data = response.json()\n",
    "        \n",
    "        # Append the response data to the list of responses\n",
    "        responses.append(data)\n",
    "        \n",
    "        num_results = data['num_results']\n",
    "        page_num = 1\n",
    "\n",
    "        \n",
    "        # Go through all books\n",
    "        while num_results >= 20:\n",
    "            print(\"Nexxt page\")\n",
    "            # Use offset to get the next batch of results\n",
    "            params['offset'] = page_num*20\n",
    "            next_page = requests.get(url, params=params)\n",
    "            \n",
    "            if next_page.status_code == 200:\n",
    "                next_page = response.json()\n",
    "                next_page = response.get(\"results\", [])\n",
    "                data['results'].extend(new_results)\n",
    "            \n",
    "                # Iterate to the next page\n",
    "                page_num += 1\n",
    "            \n",
    "            if next_page.status_code == 429:\n",
    "                #NYTIMES has 10 requests per minute limit\n",
    "                print('\\t\\t waiting ...')\n",
    "                time.sleep(10)\n",
    "                continue\n",
    "            \n",
    "        # Check if there is more data available\n",
    "        if (data[\"results\"]['next_published_date'] <= end_date) and (data[\"results\"]['next_published_date'] != ''):\n",
    "            # Update the parameters with the next_published_date\n",
    "            oldest_published_date = data[\"results\"]['next_published_date']\n",
    "        else:\n",
    "            break\n",
    "    \n",
    "    # Check if there is a timeout error\n",
    "    elif response.status_code == 429:\n",
    "        print('\\t\\t waiting ...')\n",
    "        time.sleep(10)\n",
    "\n",
    "    else:\n",
    "        print(f'Error: {response.status_code} - {response.reason}')\n",
    "        break\n",
    "\n",
    "# Write the list of responses to a NDJSON file\n",
    "output_filename = f'{list_name_encoded}.ndjson'\n",
    "with open(output_filename, 'w') as f:\n",
    "    f.write(json.dumps(responses) + '\\n')\n",
    "\n",
    "# Print the path to the output file\n",
    "print(f'Output data saved to {os.path.abspath(output_filename)}')"
   ]
  },
  {
   "cell_type": "code",
   "execution_count": 122,
   "metadata": {},
   "outputs": [
    {
     "data": {
      "text/plain": [
       "''"
      ]
     },
     "execution_count": 122,
     "metadata": {},
     "output_type": "execute_result"
    }
   ],
   "source": [
    "oldest_published_date"
   ]
  },
  {
   "cell_type": "code",
   "execution_count": 124,
   "metadata": {},
   "outputs": [
    {
     "data": {
      "text/plain": [
       "<Response [429]>"
      ]
     },
     "execution_count": 124,
     "metadata": {},
     "output_type": "execute_result"
    }
   ],
   "source": [
    "response"
   ]
  },
  {
   "cell_type": "code",
   "execution_count": 128,
   "metadata": {},
   "outputs": [
    {
     "name": "stdout",
     "output_type": "stream",
     "text": [
      "Collecting ndjson\n",
      "  Downloading ndjson-0.3.1-py2.py3-none-any.whl (5.3 kB)\n",
      "Installing collected packages: ndjson\n",
      "Successfully installed ndjson-0.3.1\n"
     ]
    }
   ],
   "source": [
    "!pip install ndjson"
   ]
  },
  {
   "cell_type": "code",
   "execution_count": 134,
   "metadata": {},
   "outputs": [],
   "source": [
    "import ndjson\n",
    "path_to_file = 'audio-fiction.ndjson'\n",
    "\n",
    "# Read the input data from the JSON file\n",
    "with open(path_to_file, 'r') as f:\n",
    "    data = ndjson.load(f)"
   ]
  },
  {
   "cell_type": "code",
   "execution_count": 136,
   "metadata": {},
   "outputs": [
    {
     "data": {
      "text/plain": [
       "1"
      ]
     },
     "execution_count": 136,
     "metadata": {},
     "output_type": "execute_result"
    }
   ],
   "source": [
    "len(data)"
   ]
  },
  {
   "cell_type": "code",
   "execution_count": 139,
   "metadata": {},
   "outputs": [
    {
     "data": {
      "text/plain": [
       "3"
      ]
     },
     "execution_count": 139,
     "metadata": {},
     "output_type": "execute_result"
    }
   ],
   "source": [
    "len(data[0])"
   ]
  },
  {
   "cell_type": "code",
   "execution_count": null,
   "metadata": {},
   "outputs": [],
   "source": []
  }
 ],
 "metadata": {
  "kernelspec": {
   "display_name": "Python 3.8.5 64-bit ('base': conda)",
   "language": "python",
   "name": "python385jvsc74a57bd0c327ec0832693a6cb3aa728b24c6c8cfc20795a56cc1fbb643655f7fa7aa24fb"
  },
  "language_info": {
   "codemirror_mode": {
    "name": "ipython",
    "version": 3
   },
   "file_extension": ".py",
   "mimetype": "text/x-python",
   "name": "python",
   "nbconvert_exporter": "python",
   "pygments_lexer": "ipython3",
   "version": "3.8.5"
  }
 },
 "nbformat": 4,
 "nbformat_minor": 4
}
