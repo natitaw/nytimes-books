{
 "cells": [
  {
   "cell_type": "code",
   "execution_count": 2,
   "metadata": {},
   "outputs": [],
   "source": [
    "import requests\n",
    "import datetime\n",
    "\n",
    "import pandas as pd"
   ]
  },
  {
   "cell_type": "code",
   "execution_count": 3,
   "metadata": {},
   "outputs": [],
   "source": [
    "API_KEY = \"bdnTOY3Wx7hYKcG7xjRo5ALgdcEYGiLv\""
   ]
  },
  {
   "cell_type": "code",
   "execution_count": 4,
   "metadata": {},
   "outputs": [],
   "source": [
    "url=\"https://api.nytimes.com/svc/books/v3/lists\"\n",
    "date = \"current\" #str(datetime.datetime.today().date() - datetime.timedelta(days=1))\n",
    "query_url = url + \"/\" +\"names.json?\"+\"api-key=\" + API_KEY\n",
    "\n",
    "r = requests.get(query_url)\n",
    "\n",
    "data = r.json()"
   ]
  },
  {
   "cell_type": "code",
   "execution_count": 5,
   "metadata": {},
   "outputs": [
    {
     "data": {
      "text/plain": [
       "'https://api.nytimes.com/svc/books/v3/lists/names.json?api-key=bdnTOY3Wx7hYKcG7xjRo5ALgdcEYGiLv'"
      ]
     },
     "execution_count": 5,
     "metadata": {},
     "output_type": "execute_result"
    }
   ],
   "source": [
    "query_url"
   ]
  },
  {
   "cell_type": "markdown",
   "metadata": {},
   "source": [
    "- After that, you need to write a script to retrieve lists according to the following requirements.:\n",
    "    1. Use the API endpoint /lists/names.json to find the 5 newest monthly lists.\n",
    "    2. Output list_name_encoded and oldest_published_date for all 5 lists in a single JSON file. You can choose the JSON field names and format you want.\n",
    "\n",
    "- Finally, you need a script to retrieve books:\n",
    "    1. Must accept as an argument the path to the JSON file above, and optionally an end_date\n",
    "    2. Iterate over the 5 lists. For each list: \n",
    "        - Use the API endpoint to retrieve the books in that list for that date\n",
    "        - Logic for iteration on dates is: \n",
    "            - first request is on oldest_published_date (from your file), \n",
    "            - then follow next_published_date that comes in the response, until there is no more data available or next_published_date is after the end_date parameter.\n",
    "        - Please respect the pagination (fetch data from all pages, not only the first).\n",
    "        - Output must be: a single NDJson (newline delimited json) file (per list) containing the entire API response for all months in that list, one response per row. "
   ]
  },
  {
   "cell_type": "code",
   "execution_count": 142,
   "metadata": {},
   "outputs": [],
   "source": [
    "def part1(API_KEY=API_KEY) -> dict:\n",
    "    \n",
    "    \n",
    "    url = \"https://api.nytimes.com/svc/books/v3/lists/names.json\"\n",
    "    \n",
    "    params = {\n",
    "        \"api-key\": f\"{API_KEY}\"\n",
    "    }\n",
    "\n",
    "    response = requests.get(url, params=params)\n",
    "    \n",
    "\n",
    "    data = response.json()\n",
    "    \n",
    "    # Filter for monthly lists\n",
    "    data = [data for data in data[\"results\"] if data[\"updated\"]==\"MONTHLY\"]\n",
    "    \n",
    "    # Sort for finding the newest 4 lists\n",
    "    data = sorted(data, key=lambda data: data['newest_published_date'], reverse=True)[:5]\n",
    "\n",
    "    output_data = [{key:value for key,value in d.items() \n",
    "               if key in ['list_name_encoded', 'oldest_published_date']} \n",
    "              for d in data]\n",
    "    \n",
    "    # Write output to a JSON file\n",
    "    with open(\"newest_monthly_lists.json\", \"w\") as f:\n",
    "        json.dump(output_data, f, indent=4)\n",
    "    \n",
    "    return output_data"
   ]
  },
  {
   "cell_type": "code",
   "execution_count": 143,
   "metadata": {},
   "outputs": [],
   "source": [
    "result = part1()"
   ]
  },
  {
   "cell_type": "code",
   "execution_count": 144,
   "metadata": {},
   "outputs": [
    {
     "data": {
      "text/plain": [
       "[{'list_name_encoded': 'audio-fiction', 'oldest_published_date': '2018-03-11'},\n",
       " {'list_name_encoded': 'audio-nonfiction',\n",
       "  'oldest_published_date': '2018-03-11'},\n",
       " {'list_name_encoded': 'business-books',\n",
       "  'oldest_published_date': '2013-11-03'},\n",
       " {'list_name_encoded': 'graphic-books-and-manga',\n",
       "  'oldest_published_date': '2019-10-13'},\n",
       " {'list_name_encoded': 'mass-market-monthly',\n",
       "  'oldest_published_date': '2019-10-13'}]"
      ]
     },
     "execution_count": 144,
     "metadata": {},
     "output_type": "execute_result"
    }
   ],
   "source": [
    "    # Loop through each monthly list and get the list_name_encoded and oldest_published_date\n",
    "    for lst in monthly_lists:\n",
    "        output_data.append({\n",
    "            'list_name_encoded': lst['list_name_encoded'],\n",
    "            'oldest_published_date': lst['oldest_published_date']\n",
    "        })"
   ]
  },
  {
   "cell_type": "code",
   "execution_count": null,
   "metadata": {},
   "outputs": [],
   "source": []
  },
  {
   "cell_type": "code",
   "execution_count": null,
   "metadata": {},
   "outputs": [],
   "source": []
  }
 ],
 "metadata": {
  "kernelspec": {
   "display_name": "Python 3.8.5 64-bit ('base': conda)",
   "language": "python",
   "name": "python385jvsc74a57bd0c327ec0832693a6cb3aa728b24c6c8cfc20795a56cc1fbb643655f7fa7aa24fb"
  },
  "language_info": {
   "codemirror_mode": {
    "name": "ipython",
    "version": 3
   },
   "file_extension": ".py",
   "mimetype": "text/x-python",
   "name": "python",
   "nbconvert_exporter": "python",
   "pygments_lexer": "ipython3",
   "version": "3.8.5"
  }
 },
 "nbformat": 4,
 "nbformat_minor": 4
}
